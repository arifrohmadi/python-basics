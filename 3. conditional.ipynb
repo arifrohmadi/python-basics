{
 "cells": [
  {
   "cell_type": "code",
   "execution_count": 1,
   "metadata": {
    "colab": {
     "base_uri": "https://localhost:8080/"
    },
    "executionInfo": {
     "elapsed": 14,
     "status": "ok",
     "timestamp": 1741823139201,
     "user": {
      "displayName": "Arif Rohmadi",
      "userId": "15788544272573415458"
     },
     "user_tz": -420
    },
    "id": "GQ2e0gyYr0fA",
    "outputId": "6915cee6-b6db-44c6-beaa-cd03a0c2e394"
   },
   "outputs": [
    {
     "name": "stdout",
     "output_type": "stream",
     "text": [
      "eligible to vote\n"
     ]
    }
   ],
   "source": [
    "# if statement\n",
    "\n",
    "age = 17\n",
    "\n",
    "if age >= 17:\n",
    "  print(\"eligible to vote\")"
   ]
  },
  {
   "cell_type": "code",
   "execution_count": 7,
   "metadata": {
    "colab": {
     "base_uri": "https://localhost:8080/"
    },
    "executionInfo": {
     "elapsed": 3194,
     "status": "ok",
     "timestamp": 1741823905523,
     "user": {
      "displayName": "Arif Rohmadi",
      "userId": "15788544272573415458"
     },
     "user_tz": -420
    },
    "id": "8dUFfyt1vth5",
    "outputId": "0b43c495-7b10-4526-ad4b-f6160f7e47e9"
   },
   "outputs": [
    {
     "name": "stdout",
     "output_type": "stream",
     "text": [
      "Masukkan Angka: 10\n",
      "10 adalah bilangan genap\n"
     ]
    }
   ],
   "source": [
    "# if-else statement\n",
    "\n",
    "# program pendeteksi bilangan ganjil atau genap\n",
    "angka = eval(input('Masukkan Angka: '))\n",
    "\n",
    "if (angka % 2) == 0:\n",
    "  print(angka,\"adalah bilangan genap\")\n",
    "else:\n",
    "  print(angka,\"adalah bilangan ganjil\")"
   ]
  },
  {
   "cell_type": "code",
   "execution_count": 8,
   "metadata": {
    "colab": {
     "base_uri": "https://localhost:8080/"
    },
    "executionInfo": {
     "elapsed": 14,
     "status": "ok",
     "timestamp": 1741824144591,
     "user": {
      "displayName": "Arif Rohmadi",
      "userId": "15788544272573415458"
     },
     "user_tz": -420
    },
    "id": "9Qb3uLHEvvc_",
    "outputId": "07bad70c-9985-4fcd-b6b8-f727f0484ff7"
   },
   "outputs": [
    {
     "name": "stdout",
     "output_type": "stream",
     "text": [
      "Anda berhak mendapatkan diskon 10%\n"
     ]
    }
   ],
   "source": [
    "# if-elif-else statement\n",
    "\n",
    "# program diskon berjenjang tiket kereta api\n",
    "age = 20\n",
    "is_member = True\n",
    "\n",
    "if is_member == True:\n",
    "  print('Anda berhak mendapatkan diskon 10%')\n",
    "elif age >= 60:\n",
    "  print('Anda berhak mendapatkan diskon 20%')\n",
    "else:\n",
    "  print('Anda tidak berhak mendapatkan diskon')"
   ]
  },
  {
   "cell_type": "code",
   "execution_count": 9,
   "metadata": {
    "colab": {
     "base_uri": "https://localhost:8080/"
    },
    "executionInfo": {
     "elapsed": 18,
     "status": "ok",
     "timestamp": 1741824749320,
     "user": {
      "displayName": "Arif Rohmadi",
      "userId": "15788544272573415458"
     },
     "user_tz": -420
    },
    "id": "jxLY1frw14ax",
    "outputId": "0ecf8501-3329-4419-d74f-2b98839b6cc3"
   },
   "outputs": [
    {
     "name": "stdout",
     "output_type": "stream",
     "text": [
      "Hasil: Lulus\n"
     ]
    }
   ],
   "source": [
    "# Ternary Conditional Statement\n",
    "nilai = 60\n",
    "hasil = \"Lulus\" if nilai >= 60 else \"Gagal\"\n",
    "print(f\"Hasil: {hasil}\")"
   ]
  },
  {
   "cell_type": "code",
   "execution_count": 11,
   "metadata": {
    "colab": {
     "base_uri": "https://localhost:8080/"
    },
    "executionInfo": {
     "elapsed": 45,
     "status": "ok",
     "timestamp": 1741825063039,
     "user": {
      "displayName": "Arif Rohmadi",
      "userId": "15788544272573415458"
     },
     "user_tz": -420
    },
    "id": "yUD2IKwA23M9",
    "outputId": "d697463f-9a56-4689-b0cb-3af8a8c5542d"
   },
   "outputs": [
    {
     "name": "stdout",
     "output_type": "stream",
     "text": [
      "Juli\n"
     ]
    }
   ],
   "source": [
    "# Match-Case Statement\n",
    "\n",
    "bulan = 7\n",
    "\n",
    "match bulan:\n",
    "  case 1:\n",
    "    print(\"Januari\")\n",
    "  case 2:\n",
    "    print(\"Februari\")\n",
    "  case 3:\n",
    "    print(\"Maret\")\n",
    "  case 4:\n",
    "    print(\"April\")\n",
    "  case 5:\n",
    "    print(\"Mei\")\n",
    "  case 6:\n",
    "    print(\"Juni\")\n",
    "  case 7:\n",
    "    print(\"Juli\")\n",
    "  case 8:\n",
    "    print(\"Agustus\")\n",
    "  case 9:\n",
    "    print(\"September\")\n",
    "  case 10:\n",
    "    print(\"Oktober\")\n",
    "  case 11:\n",
    "    print(\"November\")\n",
    "  case 12:\n",
    "    print(\"Desember\")"
   ]
  },
  {
   "cell_type": "code",
   "execution_count": 5,
   "metadata": {},
   "outputs": [
    {
     "name": "stdout",
     "output_type": "stream",
     "text": [
      "Minggu\n"
     ]
    }
   ],
   "source": [
    "hari = 0\n",
    "\n",
    "match hari:\n",
    "  case 1:\n",
    "    print(\"Senin\")\n",
    "  case 2:\n",
    "    print(\"Selasa\")\n",
    "  case 3:\n",
    "    print(\"Rabu\")\n",
    "  case 4:\n",
    "    print(\"Kamis\")\n",
    "  case 5:\n",
    "    print(\"Jumat\")\n",
    "  case 6:\n",
    "    print(\"Sabtu\")\n",
    "  case hari if 1 < hari < 8:\n",
    "    print(\"Nama Hari Sesuai\")\n",
    "  case 7 | 8 | 9:\n",
    "    print(\"Minggu\")\n",
    "  case _: # default\n",
    "    print(\"Minggu\")"
   ]
  }
 ],
 "metadata": {
  "colab": {
   "authorship_tag": "ABX9TyPLlcfqCQMRG5TUiXdg0y31",
   "provenance": []
  },
  "kernelspec": {
   "display_name": "Python 3",
   "name": "python3"
  },
  "language_info": {
   "codemirror_mode": {
    "name": "ipython",
    "version": 3
   },
   "file_extension": ".py",
   "mimetype": "text/x-python",
   "name": "python",
   "nbconvert_exporter": "python",
   "pygments_lexer": "ipython3",
   "version": "3.12.9"
  }
 },
 "nbformat": 4,
 "nbformat_minor": 0
}
