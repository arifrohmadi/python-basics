{
  "nbformat": 4,
  "nbformat_minor": 0,
  "metadata": {
    "colab": {
      "provenance": []
    },
    "kernelspec": {
      "name": "python3",
      "display_name": "Python 3"
    },
    "language_info": {
      "name": "python"
    }
  },
  "cells": [
    {
      "cell_type": "code",
      "execution_count": 2,
      "metadata": {
        "id": "KykOO1rrTz29"
      },
      "outputs": [],
      "source": [
        "# string dengan single quote\n",
        "string1 = 'Pemrograman Python'\n",
        "\n",
        "# string dengan double quote\n",
        "string1 = \"Pemrograman Python\""
      ]
    },
    {
      "cell_type": "code",
      "source": [
        "# akses string karakter\n",
        "# 1. indexing\n",
        "greet = 'halo'\n",
        "print(greet[0])\n",
        "\n",
        "# 2. negative indexing\n",
        "greet = \"halo\"\n",
        "print(greet[-1])\n",
        "\n",
        "# 3. sllicing\n",
        "greet = \"halo\"\n",
        "print(greet[1:4])"
      ],
      "metadata": {
        "colab": {
          "base_uri": "https://localhost:8080/"
        },
        "id": "oi0g8xq4Vpps",
        "outputId": "100060ee-d842-4f98-feea-d2bfb58cd71f"
      },
      "execution_count": 5,
      "outputs": [
        {
          "output_type": "stream",
          "name": "stdout",
          "text": [
            "h\n",
            "o\n",
            "alo\n"
          ]
        }
      ]
    },
    {
      "cell_type": "code",
      "source": [
        "# python string immutable\n",
        "msg = \"halo John\"\n",
        "# msg[0] = \"H\"\n",
        "print(msg)"
      ],
      "metadata": {
        "colab": {
          "base_uri": "https://localhost:8080/"
        },
        "id": "sQihqX22Wa2e",
        "outputId": "583a72bc-52d2-430e-e77c-87eacfc1e94b"
      },
      "execution_count": 7,
      "outputs": [
        {
          "output_type": "stream",
          "name": "stdout",
          "text": [
            "halo John\n"
          ]
        }
      ]
    },
    {
      "cell_type": "code",
      "source": [
        "# multiline string\n",
        "msg = '''saya senang belajar\n",
        "bahasa pemrograman python\n",
        "'''\n",
        "print(msg)"
      ],
      "metadata": {
        "colab": {
          "base_uri": "https://localhost:8080/"
        },
        "id": "u4CIuZrZXAQT",
        "outputId": "42fc6bd0-9519-45af-9454-664ca69513f2"
      },
      "execution_count": 9,
      "outputs": [
        {
          "output_type": "stream",
          "name": "stdout",
          "text": [
            "saya senang belajar\n",
            "bahasa pemrograman python\n",
            "\n"
          ]
        }
      ]
    },
    {
      "cell_type": "code",
      "source": [
        "# compare 2 string\n",
        "str1 = \"Halo Dunia\"\n",
        "str2 = \"Saya senang belajar Python\"\n",
        "str3 = \"Halo Dunia\"\n",
        "\n",
        "print(str1 == str2)\n",
        "print(str1 == str3)"
      ],
      "metadata": {
        "colab": {
          "base_uri": "https://localhost:8080/"
        },
        "id": "M6YqcKf9bwHs",
        "outputId": "88b591e6-a8dd-41c6-aa6c-c8c5fce51188"
      },
      "execution_count": 10,
      "outputs": [
        {
          "output_type": "stream",
          "name": "stdout",
          "text": [
            "False\n",
            "True\n"
          ]
        }
      ]
    },
    {
      "cell_type": "code",
      "source": [
        "greet = \"Halo \"\n",
        "name = \"Joni\"\n",
        "result = greet + name\n",
        "print(result)"
      ],
      "metadata": {
        "colab": {
          "base_uri": "https://localhost:8080/"
        },
        "id": "FOxK3pGEcQgN",
        "outputId": "fdce3687-f17a-4277-c239-a17d51262927"
      },
      "execution_count": 13,
      "outputs": [
        {
          "output_type": "stream",
          "name": "stdout",
          "text": [
            "Halo Joni\n"
          ]
        }
      ]
    },
    {
      "cell_type": "code",
      "source": [
        "greet = 'halo'\n",
        "\n",
        "# iterasi pada string\n",
        "for letter in greet:\n",
        "  print(letter)"
      ],
      "metadata": {
        "colab": {
          "base_uri": "https://localhost:8080/"
        },
        "id": "ShH8bdemfZaT",
        "outputId": "e9896196-43bc-442a-887b-eec79603b961"
      },
      "execution_count": 19,
      "outputs": [
        {
          "output_type": "stream",
          "name": "stdout",
          "text": [
            "h\n",
            "a\n",
            "l\n",
            "o\n"
          ]
        }
      ]
    },
    {
      "cell_type": "code",
      "source": [
        "# string length\n",
        "kalimat = \"Pemrograman Python\"\n",
        "print(len(kalimat))"
      ],
      "metadata": {
        "colab": {
          "base_uri": "https://localhost:8080/"
        },
        "id": "pjeePee7f8Pt",
        "outputId": "8f351f57-b0d0-4218-e55d-9d335ac72e89"
      },
      "execution_count": 18,
      "outputs": [
        {
          "output_type": "stream",
          "name": "stdout",
          "text": [
            "18\n"
          ]
        }
      ]
    },
    {
      "cell_type": "code",
      "source": [
        "# string membership\n",
        "kalimat = \"Saya senang belajar bahasa pemrograman Python\"\n",
        "print('senang' in kalimat)"
      ],
      "metadata": {
        "colab": {
          "base_uri": "https://localhost:8080/"
        },
        "id": "-6LT7pZYCfbx",
        "outputId": "3b13dbef-13f5-4f8c-dc10-b62fa98c21d1"
      },
      "execution_count": 20,
      "outputs": [
        {
          "output_type": "stream",
          "name": "stdout",
          "text": [
            "True\n"
          ]
        }
      ]
    },
    {
      "cell_type": "code",
      "source": [
        "# String Format\n",
        "age = 20\n",
        "txt = \"My name is John, I am \"+ str(age)\n",
        "print(txt)"
      ],
      "metadata": {
        "colab": {
          "base_uri": "https://localhost:8080/"
        },
        "id": "81aYKsYyHT7o",
        "outputId": "c4f94232-c670-46c8-b729-f02a79e58d55"
      },
      "execution_count": 34,
      "outputs": [
        {
          "output_type": "stream",
          "name": "stdout",
          "text": [
            "My name is John, I am 20\n"
          ]
        }
      ]
    },
    {
      "cell_type": "code",
      "source": [
        "# F-string (Formatting string)\n",
        "age = 20\n",
        "txt = f\"My name is John, I am {str(age)}\"\n",
        "print(txt)"
      ],
      "metadata": {
        "colab": {
          "base_uri": "https://localhost:8080/"
        },
        "id": "Q5whtAtYH8-X",
        "outputId": "dfc726b1-c1fe-4219-a47c-d986fd11b1c6"
      },
      "execution_count": 35,
      "outputs": [
        {
          "output_type": "stream",
          "name": "stdout",
          "text": [
            "My name is John, I am 20\n"
          ]
        }
      ]
    },
    {
      "cell_type": "code",
      "source": [
        "example = \"He said, \\\"What's there?\\\"\"\n",
        "print(example)"
      ],
      "metadata": {
        "colab": {
          "base_uri": "https://localhost:8080/"
        },
        "id": "IzAULPZYDkba",
        "outputId": "bc7d142d-d36d-4790-8521-2346ff02a61e"
      },
      "execution_count": 22,
      "outputs": [
        {
          "output_type": "stream",
          "name": "stdout",
          "text": [
            "He said, \"What's there?\"\n"
          ]
        }
      ]
    },
    {
      "cell_type": "code",
      "source": [
        "# Modify string\n",
        "\n",
        "a = \" Hello, World! \"\n",
        "print(a.upper()) # Upper Case\n",
        "print(a.lower()) # Lower Case\n",
        "print(a.strip()) # Remove Whitespace\n",
        "print(a.replace(\"H\",\"J\")) # Replace String\n",
        "print(a.split(\",\")) # Split String"
      ],
      "metadata": {
        "colab": {
          "base_uri": "https://localhost:8080/"
        },
        "id": "qSwf-vRMF6v6",
        "outputId": "3608d23b-57ca-4900-e49e-ea9ceeb5cec3"
      },
      "execution_count": 29,
      "outputs": [
        {
          "output_type": "stream",
          "name": "stdout",
          "text": [
            " HELLO, WORLD! \n",
            " hello, world! \n",
            "Hello, World!\n",
            " Jello, World! \n",
            "[' Hello', ' World! ']\n"
          ]
        }
      ]
    },
    {
      "cell_type": "code",
      "source": [
        "# String Methods\n",
        "\n",
        "text = \"The quick brown fox\"\n",
        "print(\"Found 'quick' at index:\", text.find(\"quick\"))\n",
        "print(\"Replaced 'brown' with 'red':\", text.replace(\"brown\", \"red\"))\n",
        "print(\"Starts with 'The':\", text.startswith(\"The\"))\n",
        "print(\"Ends with 'fox':\", text.endswith(\"fox\"))"
      ],
      "metadata": {
        "colab": {
          "base_uri": "https://localhost:8080/"
        },
        "id": "7irvOA7rKSsT",
        "outputId": "d8793baa-e9a0-4503-8841-26334133758a"
      },
      "execution_count": 38,
      "outputs": [
        {
          "output_type": "stream",
          "name": "stdout",
          "text": [
            "Found 'quick' at index: 4\n",
            "Replaced 'brown' with 'red': The quick red fox\n",
            "Starts with 'The': True\n",
            "Ends with 'fox': True\n"
          ]
        }
      ]
    }
  ]
}