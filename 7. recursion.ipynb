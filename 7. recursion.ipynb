{
  "nbformat": 4,
  "nbformat_minor": 0,
  "metadata": {
    "colab": {
      "provenance": []
    },
    "kernelspec": {
      "name": "python3",
      "display_name": "Python 3"
    },
    "language_info": {
      "name": "python"
    }
  },
  "cells": [
    {
      "cell_type": "code",
      "execution_count": 5,
      "metadata": {
        "colab": {
          "base_uri": "https://localhost:8080/"
        },
        "id": "mlOQLyywVPvn",
        "outputId": "ddd675ea-1d57-4aa8-ae17-bbcaf8fd4d6e"
      },
      "outputs": [
        {
          "output_type": "stream",
          "name": "stdout",
          "text": [
            "20\n",
            "20\n",
            "20\n"
          ]
        }
      ],
      "source": [
        "# multiplication\n",
        "\n",
        "# direct\n",
        "# def mult (a,b)\n",
        "#   return a*b\n",
        "\n",
        "# multiplication in term of iteration\n",
        "def mult (a,b):\n",
        "  total = 0\n",
        "  for n in range(b):\n",
        "    total +=a\n",
        "  return total\n",
        "print(mult(5,4))\n",
        "\n",
        "# another solution\n",
        "def mult_iter(a,b):\n",
        "  result = 0\n",
        "  while b > 0:\n",
        "    result += a\n",
        "    b -=1\n",
        "  return result\n",
        "print(mult_iter(5,4))\n",
        "\n",
        "# recursion\n",
        "def mult_recur(a,b):\n",
        "  if b == 1:\n",
        "    return a\n",
        "  else:\n",
        "    return a + mult_recur(a,b-1)\n",
        "\n",
        "print(mult_recur(5,4)) #5+5+5+5"
      ]
    },
    {
      "cell_type": "code",
      "source": [
        "def power_recur(n,p):\n",
        "  if p==0:\n",
        "    return 1\n",
        "  elif p==1:\n",
        "    return n\n",
        "  else:\n",
        "    return n*power_recur(n,p-1)\n",
        "\n",
        "print(power_recur(2,3))"
      ],
      "metadata": {
        "colab": {
          "base_uri": "https://localhost:8080/"
        },
        "id": "4DmDccXyisvS",
        "outputId": "b59257df-ef7a-46cc-a9f7-81d42a0be83d"
      },
      "execution_count": 6,
      "outputs": [
        {
          "output_type": "stream",
          "name": "stdout",
          "text": [
            "8\n"
          ]
        }
      ]
    },
    {
      "cell_type": "code",
      "source": [
        "import timeit\n",
        "n=4\n",
        "\n",
        "def fact(n):\n",
        "  if n == 1:\n",
        "    return 1\n",
        "  else:\n",
        "    return n*fact(n-1)\n",
        "\n",
        "print(fact(n))\n",
        "\n",
        "def factorial_iter(n):\n",
        "  prod = 1\n",
        "  for i in range(1,n+1):\n",
        "    prod *=i\n",
        "  return prod\n",
        "\n",
        "print(factorial_iter(n))\n",
        "\n",
        "# Step 1: Time 1 run to estimate speed\n",
        "single_run_recursive = timeit.timeit(lambda: fact(n), number=1)\n",
        "single_run_iterative = timeit.timeit(lambda: factorial_iter(n), number=1)\n",
        "# print(single_run_recursive)\n",
        "# print(single_run_iterative)\n",
        "\n",
        "# Step 2: Decide number based on how fast it was\n",
        "def choose_number(single_run_time):\n",
        "    if single_run_time < 1e-5:  # Very fast function\n",
        "        return 1_000_000\n",
        "    elif single_run_time < 1e-4:\n",
        "        return 500_000\n",
        "    elif single_run_time < 1e-3:\n",
        "        return 100_000\n",
        "    elif single_run_time < 1e-2:\n",
        "        return 10_000\n",
        "    else:\n",
        "        return 1000\n",
        "\n",
        "recursive_number = choose_number(single_run_recursive)\n",
        "iterative_number = choose_number(single_run_iterative)\n",
        "# print(recursive_number)\n",
        "# print(iterative_number)\n",
        "\n",
        "# Step 3: Run final timing\n",
        "recursive_time = timeit.timeit(lambda: fact(n), number=recursive_number)\n",
        "iterative_time = timeit.timeit(lambda: factorial_iter(n), number=iterative_number)\n",
        "\n",
        "print(recursive_time)\n",
        "print(iterative_time)"
      ],
      "metadata": {
        "colab": {
          "base_uri": "https://localhost:8080/"
        },
        "id": "_eIOnXQSj43d",
        "outputId": "329765ff-da5b-473c-b0ed-2e5c6a7770f4"
      },
      "execution_count": 68,
      "outputs": [
        {
          "output_type": "stream",
          "name": "stdout",
          "text": [
            "24\n",
            "24\n",
            "0.2828147989998797\n",
            "0.3326809199998024\n"
          ]
        }
      ]
    },
    {
      "cell_type": "code",
      "source": [
        "# Fibonacci\n",
        "def fib(x):\n",
        "  if x == 1 or x == 2:\n",
        "    return 1\n",
        "  else:\n",
        "    return fib(x-1) + fib(x-2)\n",
        "print(fib(6))\n",
        "\n",
        "# efficient fibbonaci\n",
        "def fib_efficient(n,d):\n",
        "  if n in d :\n",
        "    return d[n]\n",
        "  else:\n",
        "    ans = fib_efficient(n-1,d) + fib_efficient(n-2,d)\n",
        "    d[n] = ans\n",
        "    return ans\n",
        "d = {1:1, 2:1}\n",
        "print(fib_efficient(6,d))"
      ],
      "metadata": {
        "colab": {
          "base_uri": "https://localhost:8080/"
        },
        "id": "UfQAuo3dTF-T",
        "outputId": "75803660-e83b-4d99-c3ea-c1b850a3fd00"
      },
      "execution_count": 74,
      "outputs": [
        {
          "output_type": "stream",
          "name": "stdout",
          "text": [
            "8\n",
            "8\n"
          ]
        }
      ]
    },
    {
      "cell_type": "code",
      "source": [
        "# score basketball\n",
        "def score_count(x):\n",
        "  if x == 1:\n",
        "    return 1\n",
        "  elif x == 2:\n",
        "    return 2\n",
        "  elif x == 3:\n",
        "    return 3\n",
        "  else:\n",
        "    return score_count(x-1) + score_count(x-2) + score_count(x-3)\n",
        "\n",
        "print(score_count(6))"
      ],
      "metadata": {
        "colab": {
          "base_uri": "https://localhost:8080/"
        },
        "id": "YluzUXdQUbT7",
        "outputId": "1990d358-2b61-4043-8bef-e2dc72afba7e"
      },
      "execution_count": 79,
      "outputs": [
        {
          "output_type": "stream",
          "name": "stdout",
          "text": [
            "20\n"
          ]
        }
      ]
    },
    {
      "cell_type": "code",
      "source": [
        "# sum of list\n",
        "def total_iter(L):\n",
        "  result = 0\n",
        "  for e in L:\n",
        "    result += e\n",
        "  return result\n",
        "\n",
        "test = [10,20,30]\n",
        "print(total_iter(test))\n",
        "\n",
        "def total_recur(L):\n",
        "  if len(L) == 1:\n",
        "    return L[0]\n",
        "  else:\n",
        "    return L[0] + total_recur(L[1:])\n",
        "\n",
        "test = [10,20,30]\n",
        "print(total_iter(test))"
      ],
      "metadata": {
        "colab": {
          "base_uri": "https://localhost:8080/"
        },
        "id": "9_YBWPLHVN9_",
        "outputId": "39d09a05-80dd-40bc-abad-bdb1e448c7b2"
      },
      "execution_count": 83,
      "outputs": [
        {
          "output_type": "stream",
          "name": "stdout",
          "text": [
            "60\n",
            "60\n"
          ]
        }
      ]
    }
  ]
}