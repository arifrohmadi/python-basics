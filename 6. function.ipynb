{
  "nbformat": 4,
  "nbformat_minor": 0,
  "metadata": {
    "colab": {
      "provenance": []
    },
    "kernelspec": {
      "name": "python3",
      "display_name": "Python 3"
    },
    "language_info": {
      "name": "python"
    }
  },
  "cells": [
    {
      "cell_type": "code",
      "execution_count": 4,
      "metadata": {
        "colab": {
          "base_uri": "https://localhost:8080/"
        },
        "id": "aZzdb6HjY58J",
        "outputId": "54890131-4c88-4f84-9432-899a2d814d0b"
      },
      "outputs": [
        {
          "output_type": "stream",
          "name": "stdout",
          "text": [
            "False\n",
            "True\n"
          ]
        }
      ],
      "source": [
        "###########################\n",
        "#### EXAMPLE: applying functions to repeat same task many times\n",
        "###########################\n",
        "#A very simple example of a function that has one\n",
        "#argument and returns one value\n",
        "def is_even(i):\n",
        "    \"\"\"Assumes: i, a positive int\n",
        "    Returns True if i is even, otherwise False\"\"\"\n",
        "    # if i%2 == 0:\n",
        "    #     return True\n",
        "    # else:\n",
        "    #     return False\n",
        "\n",
        "    return i%2 == 0\n",
        "\n",
        "# is_even(3) # <- returns False\n",
        "# is_even(8) # <- returns True\n",
        "\n",
        "print(is_even(3)) # <- prints False\n",
        "print(is_even(8)) # <- prints True"
      ]
    },
    {
      "cell_type": "code",
      "source": [
        "############## YOU TRY IT ###################\n",
        "# Write code that satisfies the following specification:\n",
        "def div_by(n, d):\n",
        "    \"\"\" n and d are ints > 0\n",
        "        Returns True if d divides n evenly and False otherwise\n",
        "    \"\"\"\n",
        "    return n % d == 0\n",
        "\n",
        "# For example:\n",
        "print(div_by(10,3))     # print False\n",
        "print(div_by(195,13))   # returns True"
      ],
      "metadata": {
        "colab": {
          "base_uri": "https://localhost:8080/"
        },
        "id": "H6j8csuNZQzO",
        "outputId": "6e82627a-d8b0-4eee-b761-6efe3182fbca"
      },
      "execution_count": null,
      "outputs": [
        {
          "output_type": "stream",
          "name": "stdout",
          "text": [
            "False\n",
            "True\n"
          ]
        }
      ]
    },
    {
      "cell_type": "code",
      "source": [
        "##############################################\n",
        "\n",
        "# # Using the is_even function later on in the code\n",
        "# print(\"Numbers between 1 and 10: even or odd\")\n",
        "\n",
        "for i in range(1,10):\n",
        "    if is_even(i):\n",
        "        print(i, \"even\")\n",
        "    else:\n",
        "        print(i, \"odd\")"
      ],
      "metadata": {
        "colab": {
          "base_uri": "https://localhost:8080/"
        },
        "id": "QQ6qSr76Zrnv",
        "outputId": "9c68dee6-cdea-478e-edcc-a0b24d85a73c"
      },
      "execution_count": null,
      "outputs": [
        {
          "output_type": "stream",
          "name": "stdout",
          "text": [
            "1 odd\n",
            "2 even\n",
            "3 odd\n",
            "4 even\n",
            "5 odd\n",
            "6 even\n",
            "7 odd\n",
            "8 even\n",
            "9 odd\n"
          ]
        }
      ]
    },
    {
      "cell_type": "code",
      "source": [
        "###########################\n",
        "### EXAMPLE: sum of all odd numbers between (including) a and b\n",
        "###########################\n",
        "## with a for loop\n",
        "def sum_odd(a, b):\n",
        "    sum_of_odds = 0\n",
        "    for i in range(a, b+1):\n",
        "        if i%2 == 0:\n",
        "            sum_of_odds += i\n",
        "            print(i, sum_of_odds)\n",
        "    return sum_of_odds\n",
        "\n",
        "print(sum_odd(2,4))\n",
        "print(sum_odd(2,7))"
      ],
      "metadata": {
        "colab": {
          "base_uri": "https://localhost:8080/"
        },
        "id": "ZdYxH2SqZ17G",
        "outputId": "df9f0580-3e50-4edf-8f36-b891055903e3"
      },
      "execution_count": null,
      "outputs": [
        {
          "output_type": "stream",
          "name": "stdout",
          "text": [
            "2 2\n",
            "4 6\n",
            "6\n",
            "2 2\n",
            "4 6\n",
            "6 12\n",
            "12\n"
          ]
        }
      ]
    },
    {
      "cell_type": "code",
      "source": [
        "# # with a while loop\n",
        "def sum_odd(a, b):\n",
        "    sum_of_odds = 0\n",
        "    i = a\n",
        "    while i <= b:\n",
        "        if i%2 == 1:\n",
        "            sum_of_odds += i\n",
        "        i += 1\n",
        "    return sum_of_odds\n",
        "\n",
        "print(sum_odd(2,4))\n",
        "print(sum_odd(2,7))"
      ],
      "metadata": {
        "colab": {
          "base_uri": "https://localhost:8080/"
        },
        "id": "UfeZPFTvaA-r",
        "outputId": "1febd2fb-8f32-4342-be24-b7bf7d2a7476"
      },
      "execution_count": null,
      "outputs": [
        {
          "output_type": "stream",
          "name": "stdout",
          "text": [
            "3\n",
            "15\n"
          ]
        }
      ]
    },
    {
      "cell_type": "code",
      "source": [
        "def is_palindrome(s):\n",
        "    \"\"\" s is a string\n",
        "    Returns True if s is a palindrome and False otherwise\n",
        "    \"\"\"\n",
        "    # for i in range(len(s)//2):\n",
        "    #     if s[i] != s[len(s)-i-1]:\n",
        "    #         return False\n",
        "    # return True\n",
        "\n",
        "    return s == s[::-1]\n",
        "\n",
        "print(is_palindrome(\"radar\"))    # True\n",
        "print(is_palindrome(\"hello\"))"
      ],
      "metadata": {
        "colab": {
          "base_uri": "https://localhost:8080/"
        },
        "id": "QTykZIDnaEIu",
        "outputId": "98ca644d-e63f-4d9d-d6ec-b37ec9c09b44"
      },
      "execution_count": null,
      "outputs": [
        {
          "output_type": "stream",
          "name": "stdout",
          "text": [
            "True\n",
            "False\n"
          ]
        }
      ]
    },
    {
      "cell_type": "code",
      "source": [
        "def keep_consonants(word):\n",
        "    \"\"\" word is a string of lowercase letters\n",
        "        Returns a string containing only the consonants\n",
        "        of word in the order they appear\n",
        "    \"\"\"\n",
        "    vowels = \"aeiou\"\n",
        "    result = \"\"\n",
        "    for char in word:\n",
        "        if char not in vowels:\n",
        "            result += char\n",
        "    return result\n",
        "\n",
        "# For example\n",
        "print(keep_consonants(\"abcd\"))  # prints bcd\n",
        "print(keep_consonants(\"aaa\"))  # prints an empty string\n",
        "print(keep_consonants(\"babas\"))  # prints bbs"
      ],
      "metadata": {
        "colab": {
          "base_uri": "https://localhost:8080/"
        },
        "id": "vGZeaHOMaWLZ",
        "outputId": "0338c5f0-2d36-493b-9051-d350100ad9f7"
      },
      "execution_count": null,
      "outputs": [
        {
          "output_type": "stream",
          "name": "stdout",
          "text": [
            "bcd\n",
            "\n",
            "bbs\n"
          ]
        }
      ]
    },
    {
      "cell_type": "code",
      "source": [
        "def first_to_last_diff(s, c):\n",
        "    \"\"\" s is a string, c is single character string\n",
        "        Returns the difference between the index where c first\n",
        "        occurs and the index where c last occurs. If c does not\n",
        "        occur in s, returns -1.\n",
        "    \"\"\"\n",
        "    # if c not in s:\n",
        "    #     return -1\n",
        "    # # if reach here, c is in s\n",
        "    # for i in range(len(s)):\n",
        "    #     if s[i]==c:\n",
        "    #         # break here to save i as the first instance of c in s\n",
        "    #         break\n",
        "    # # loop through s backwards\n",
        "    # for j in range(len(s)-1,-1,-1):\n",
        "    #     if s[j]==c:\n",
        "    #         # break here to save j as the last instance of c in s\n",
        "    #         break\n",
        "    # # this return is ok becasue the loops iterated through indices not chars of s\n",
        "    # return j-i\n",
        "\n",
        "\n",
        "    if c not in s:\n",
        "        return -1\n",
        "    first_index = s.find(c)\n",
        "    last_index = s.rfind(c)\n",
        "    return last_index - first_index\n",
        "\n",
        "# For example\n",
        "print(first_to_last_diff('aaaa', 'a'))  # prints 3\n",
        "print(first_to_last_diff('abcabcabc', 'b'))  # prints 6\n",
        "print(first_to_last_diff('xyz', 'b'))  # prints -1"
      ],
      "metadata": {
        "colab": {
          "base_uri": "https://localhost:8080/"
        },
        "id": "yD9a2ejnaq_R",
        "outputId": "353557c4-87bd-41f8-bcde-131f1394bcd7"
      },
      "execution_count": null,
      "outputs": [
        {
          "output_type": "stream",
          "name": "stdout",
          "text": [
            "3\n",
            "6\n",
            "-1\n"
          ]
        }
      ]
    }
  ]
}