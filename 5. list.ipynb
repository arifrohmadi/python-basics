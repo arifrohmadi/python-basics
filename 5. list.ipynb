{
 "cells": [
  {
   "cell_type": "code",
   "execution_count": null,
   "metadata": {
    "colab": {
     "base_uri": "https://localhost:8080/"
    },
    "id": "whX8TvCAIMmm",
    "outputId": "82ab5369-dd21-49be-ce5a-8c297044d915"
   },
   "outputs": [
    {
     "name": "stdout",
     "output_type": "stream",
     "text": [
      "[1, 2, 3, 4]\n",
      "['joni', 'jono', 'jeni']\n",
      "[True, False, True, True]\n",
      "[1, 'Cireng', 'John', True]\n",
      "[0, 1, 2, 3, 4, 5, 6, 7, 8, 9]\n",
      "[0, 1, 4, 9, 16, 25, 36, 49, 64, 81]\n",
      "[0, 1, 2, 3, 4, 6, 7, 8, 9]\n"
     ]
    }
   ],
   "source": [
    "# List\n",
    "angka1 = 1\n",
    "angka2 = 2\n",
    "angka3 = 3\n",
    "\n",
    "# kumpulan data angka\n",
    "data_angka = [1,2,3,4]\n",
    "print(data_angka)\n",
    "\n",
    "# kumpulan data string\n",
    "data_string = [\"joni\",\"jono\",\"jeni\"]\n",
    "print(data_string)\n",
    "\n",
    "# kumpulan data boolean\n",
    "data_boolean = [True,False,True,True]\n",
    "print(data_boolean)\n",
    "\n",
    "# kumpulan data campuran\n",
    "data_mix = [1,\"Cireng\",\"John\",True]\n",
    "print(data_mix)\n",
    "\n",
    "# cara alternatif membuat list\n",
    "data_range = list(range(0,10))\n",
    "print(data_range)\n",
    "\n",
    "# membuat list dengan for loop, list comprehension\n",
    "list_with_for = [i**2 for i in range(0,10)]\n",
    "print(list_with_for)\n",
    "\n",
    "# membuat list menggunakan for dan if\n",
    "list_with_for_if = [i for i in range(0,10) if i !=5]\n",
    "print(list_with_for_if)"
   ]
  },
  {
   "cell_type": "code",
   "execution_count": null,
   "metadata": {
    "colab": {
     "base_uri": "https://localhost:8080/"
    },
    "id": "0FIH3Fy101Yr",
    "outputId": "d89f1500-7c29-4f44-bf44-78ede1c40a13"
   },
   "outputs": [
    {
     "name": "stdout",
     "output_type": "stream",
     "text": [
      "list1[0]:  matematika\n",
      "list2[1:5]:  [3, 4, 5, 6, 7]\n"
     ]
    }
   ],
   "source": [
    "# akses elemen dalam list python\n",
    "list1 = ['matematika','fisika','kimia', 1993]\n",
    "list2 = [1,2,3,4,5,6,7]\n",
    "\n",
    "print(\"list1[0]: \", list1[0])\n",
    "print(\"list2[1:5]: \", list2[2:9])"
   ]
  },
  {
   "cell_type": "code",
   "execution_count": null,
   "metadata": {
    "colab": {
     "base_uri": "https://localhost:8080/"
    },
    "id": "xDtpr-soEA31",
    "outputId": "7cbb5508-5d5d-471d-ccf1-0d83582dd69c"
   },
   "outputs": [
    {
     "name": "stdout",
     "output_type": "stream",
     "text": [
      "elemen pada index ke-2: kimia\n",
      "elemen pada index ke-2: biologi\n"
     ]
    }
   ],
   "source": [
    "# update elemen dalam list python\n",
    "list = ['matematika','fisika','kimia', 1993]\n",
    "print ('elemen pada index ke-2:',list[2])\n",
    "\n",
    "list[2] = 'biologi'\n",
    "print(\"elemen pada index ke-2:\", list[2])"
   ]
  },
  {
   "cell_type": "code",
   "execution_count": null,
   "metadata": {
    "colab": {
     "base_uri": "https://localhost:8080/"
    },
    "id": "KLfSo4XuFntQ",
    "outputId": "5b8e1f80-fac6-4dda-a02e-6f7d2d8dec72"
   },
   "outputs": [
    {
     "name": "stdout",
     "output_type": "stream",
     "text": [
      "['matematika', 'fisika', 'kimia', 1993]\n",
      "['matematika', 'fisika', 1993]\n"
     ]
    }
   ],
   "source": [
    "# hapus elemen dalam list python\n",
    "list = ['matematika','fisika','kimia', 1993]\n",
    "print(list)\n",
    "\n",
    "del list[2]\n",
    "print(list)"
   ]
  },
  {
   "cell_type": "code",
   "execution_count": null,
   "metadata": {
    "colab": {
     "base_uri": "https://localhost:8080/"
    },
    "id": "Ce02AqgaMq5i",
    "outputId": "208f99d8-b713-4ec8-bfcb-98a14775e79a"
   },
   "outputs": [
    {
     "name": "stdout",
     "output_type": "stream",
     "text": [
      "('honda', 'yamaha', 'suzuki', 2017)\n",
      "tup1[0]: honda\n",
      "tup2[1:5]: (2, 3, 4, 5)\n"
     ]
    }
   ],
   "source": [
    "# tuple\n",
    "\n",
    "tup1 = ('honda', 'yamaha', 'suzuki', 2017)\n",
    "tup2 = (1, 2, 3, 4, 5 )\n",
    "tup3 = \"a\", \"b\", \"c\", \"d\"\n",
    "\n",
    "print(tup1)\n",
    "print(\"tup1[0]:\",tup1[0])\n",
    "print(\"tup2[1:5]:\", tup2[1:5])"
   ]
  },
  {
   "cell_type": "code",
   "execution_count": null,
   "metadata": {
    "colab": {
     "base_uri": "https://localhost:8080/"
    },
    "id": "bA4UMCZXYPbq",
    "outputId": "f5b2a5a5-e13f-4293-883f-daae2daf4220"
   },
   "outputs": [
    {
     "name": "stdout",
     "output_type": "stream",
     "text": [
      "(1, 4, 3, 9, 4)\n"
     ]
    }
   ],
   "source": [
    "# update elemen dalam tuple\n",
    "tup1 = ('ana','ani','ane')\n",
    "tup2 = (1,4,3,9,4)\n",
    "\n",
    "#tup2[1] = 2\n",
    "print(tup2)\n"
   ]
  },
  {
   "cell_type": "code",
   "execution_count": null,
   "metadata": {
    "colab": {
     "base_uri": "https://localhost:8080/"
    },
    "id": "akbxvR4kYQ2k",
    "outputId": "b62b811b-e773-437b-e6df-4ade0552e1b8"
   },
   "outputs": [
    {
     "name": "stdout",
     "output_type": "stream",
     "text": [
      "('fisika', 'kimia', 1993, 2017)\n"
     ]
    }
   ],
   "source": [
    "# hapus elemen dalam tuple\n",
    "tup = ('fisika', 'kimia', 1993, 2017)\n",
    "print(tup)\n",
    "\n",
    "#del(tup[1])"
   ]
  },
  {
   "cell_type": "code",
   "execution_count": null,
   "metadata": {
    "colab": {
     "base_uri": "https://localhost:8080/"
    },
    "id": "K1HWoT28aehL",
    "outputId": "384c6db6-c9b3-4fc8-e3f7-fd79ec018e93"
   },
   "outputs": [
    {
     "name": "stdout",
     "output_type": "stream",
     "text": [
      "Goku 22\n",
      "22 Goku\n"
     ]
    }
   ],
   "source": [
    "# dictionary\n",
    "dict = {'Nama': 'Goku', 'Umur': '22'}\n",
    "print(dict['Nama'],dict['Umur'])\n",
    "print(dict['Umur'],dict['Nama'])\n"
   ]
  },
  {
   "cell_type": "code",
   "execution_count": null,
   "metadata": {
    "colab": {
     "base_uri": "https://localhost:8080/"
    },
    "id": "qW6LwVvLfevk",
    "outputId": "0151b799-0691-4f2c-cb2a-80d49f8316e2"
   },
   "outputs": [
    {
     "name": "stdout",
     "output_type": "stream",
     "text": [
      "{'Nama': 'Goku', 'Umur': 20}\n",
      "{'Nama': 'Goku', 'Umur': 20, 'Pekerjaan': 'Body Guard'}\n"
     ]
    }
   ],
   "source": [
    "# update elemen dalam dictionary\n",
    "dict = {'Nama': 'Goku', 'Umur': '22'}\n",
    "dict['Umur'] = 20\n",
    "\n",
    "print(dict)\n",
    "dict['Pekerjaan'] = 'Body Guard'\n",
    "print(dict)"
   ]
  },
  {
   "cell_type": "code",
   "execution_count": null,
   "metadata": {
    "colab": {
     "base_uri": "https://localhost:8080/"
    },
    "id": "Emqrdt68gHil",
    "outputId": "f6414aee-86b0-47e5-912e-55758efdd68a"
   },
   "outputs": [
    {
     "name": "stdout",
     "output_type": "stream",
     "text": [
      "{'Name': 'Jagoan'}\n"
     ]
    }
   ],
   "source": [
    "# hapus elemen dalam dictionary\n",
    "dict = {'Name': 'Zara', 'Age': 7, 'Class': 'First'}\n",
    "\n",
    "del dict['Name'] # hapus entri dengan key 'Name'\n",
    "dict.clear() # hapus semua entri di dict\n",
    "del dict # hapus dictionary yang sudah ada\n",
    "\n",
    "dict = {'Name': 'Jagoan'}\n",
    "print(dict)"
   ]
  },
  {
   "cell_type": "code",
   "execution_count": null,
   "metadata": {
    "colab": {
     "base_uri": "https://localhost:8080/"
    },
    "id": "HbhYXcPJlpOZ",
    "outputId": "0f319bc5-7014-47b1-dc5f-77b2ea8059cd"
   },
   "outputs": [
    {
     "name": "stdout",
     "output_type": "stream",
     "text": [
      "{1, 2, 3, 4, 5, 10}\n"
     ]
    }
   ],
   "source": [
    "# set\n",
    "my_set = {1,10,4,2,3,5,5}\n",
    "print(my_set)"
   ]
  },
  {
   "cell_type": "code",
   "execution_count": 26,
   "metadata": {
    "colab": {
     "base_uri": "https://localhost:8080/"
    },
    "id": "A_y49G8JKn_6",
    "outputId": "84bb346a-3e55-433c-99b2-452b15bc9f3d"
   },
   "outputs": [
    {
     "name": "stdout",
     "output_type": "stream",
     "text": [
      "[2, 4, 6, 8]\n"
     ]
    }
   ],
   "source": [
    "# map\n",
    "# variasi fungsi map\n",
    "\n",
    "# Menerapkan Fungsi ke List\n",
    "def square(x):\n",
    "  return x*2\n",
    "\n",
    "my_list = [1, 2, 3, 4]\n",
    "result = map(square, my_list)  # Mengaplikasikan fungsi square ke setiap elemen dalam my_list\n",
    "result_list = list(result)  # Mengonversi hasil map ke list\n",
    "print(result_list)\n",
    "\n",
    "# for x in result_list:\n",
    "#   print(x)"
   ]
  },
  {
   "cell_type": "code",
   "execution_count": null,
   "metadata": {
    "colab": {
     "base_uri": "https://localhost:8080/"
    },
    "id": "N53osMUgM_RB",
    "outputId": "6ed41a7c-4fab-4af6-da8a-7baf751b1f98"
   },
   "outputs": [
    {
     "name": "stdout",
     "output_type": "stream",
     "text": [
      "[1, 4, 9, 16, 25]\n"
     ]
    }
   ],
   "source": [
    "# Menggunakan Fungsi Lambda\n",
    "numbers = [1, 2, 3, 4, 5]\n",
    "squared_numbers = list(map(lambda x: x * x, numbers))\n",
    "\n",
    "print(squared_numbers)"
   ]
  },
  {
   "cell_type": "code",
   "execution_count": null,
   "metadata": {
    "colab": {
     "base_uri": "https://localhost:8080/"
    },
    "id": "uxW_idF2OIZP",
    "outputId": "35e06eb9-cf12-4dc9-c201-a5eaf0942201"
   },
   "outputs": [
    {
     "name": "stdout",
     "output_type": "stream",
     "text": [
      "[5, 7, 9]\n"
     ]
    }
   ],
   "source": [
    "# Menerapkan Fungsi ke Beberapa List\n",
    "\n",
    "angka1 = [1, 2, 3]\n",
    "angka2 = [4, 5, 6]\n",
    "sum_angka = list(map(lambda x, y: x + y, angka1, angka2))\n",
    "print(sum_angka)"
   ]
  },
  {
   "cell_type": "code",
   "execution_count": null,
   "metadata": {
    "colab": {
     "base_uri": "https://localhost:8080/"
    },
    "id": "NeInO2dnOrAU",
    "outputId": "9936ec0b-6b19-4c83-8fe1-a02e87196ed9"
   },
   "outputs": [
    {
     "name": "stdout",
     "output_type": "stream",
     "text": [
      "['1', '2', '3', '4']\n",
      "[1, 2, 3, 4]\n"
     ]
    }
   ],
   "source": [
    "# Menggabungkan map() dengan Fungsi Bawaan\n",
    "numbers = [\"1\", \"2\", \"3\", \"4\"]\n",
    "print(numbers)\n",
    "int_numbers = list(map(int, numbers))\n",
    "print(int_numbers)"
   ]
  },
  {
   "cell_type": "code",
   "execution_count": null,
   "metadata": {
    "colab": {
     "base_uri": "https://localhost:8080/"
    },
    "id": "rf5WVSMsPDwe",
    "outputId": "f6d252ef-3a70-4214-8d37-35fc2ce7d3ac"
   },
   "outputs": [
    {
     "name": "stdout",
     "output_type": "stream",
     "text": [
      "Bob\n"
     ]
    }
   ],
   "source": [
    "# Menerapkan Fungsi pada List of Dictionaries\n",
    "\n",
    "people = [\n",
    "    {\"nama\": \"Allice\", \"umur\": 20},\n",
    "    {\"nama\": \"Bob\", \"umur\": 25},\n",
    "    {\"nama\": \"Charlie\", \"umur\": 17}\n",
    "]\n",
    "\n",
    "def get_nama(person):\n",
    "  return person[\"nama\"]\n",
    "\n",
    "nama = list(map(get_nama, people))\n",
    "print(nama[1])"
   ]
  },
  {
   "cell_type": "code",
   "execution_count": null,
   "metadata": {
    "colab": {
     "base_uri": "https://localhost:8080/"
    },
    "id": "KTfy5s4eRDR1",
    "outputId": "9da128de-d642-4e72-e3d0-15e8b6afb62c"
   },
   "outputs": [
    {
     "name": "stdout",
     "output_type": "stream",
     "text": [
      "[0, 1, 2, 3, 4, 5, 6, 7, 8, 9]\n",
      "[0, 1, 2, 3, 4, 5, 6, 7, 8, 9]\n"
     ]
    }
   ],
   "source": [
    "# list comprehension\n",
    "\n",
    "# list biasa\n",
    "list = []\n",
    "for i in range(10):\n",
    "    list.append(i)\n",
    "print(list)\n",
    "\n",
    "# list comprehension\n",
    "list = [i for i in range(10)]\n",
    "print(list)\n"
   ]
  },
  {
   "cell_type": "code",
   "execution_count": null,
   "metadata": {
    "colab": {
     "base_uri": "https://localhost:8080/"
    },
    "id": "iSaKB64-VYgI",
    "outputId": "b53c75b5-9a1f-4949-842d-8c931c040975"
   },
   "outputs": [
    {
     "name": "stdout",
     "output_type": "stream",
     "text": [
      "[0, 1, 4, 9, 16, 25, 36, 49, 64, 81]\n"
     ]
    }
   ],
   "source": [
    "# Membuat List Angka Kuadrat\n",
    "\n",
    "list = [i*i for i in range(10)]\n",
    "print(list)"
   ]
  },
  {
   "cell_type": "code",
   "execution_count": null,
   "metadata": {
    "colab": {
     "base_uri": "https://localhost:8080/"
    },
    "id": "AWQ6LsahVo4J",
    "outputId": "b9ff9f1c-52a4-47fc-f249-ff24cf6cd804"
   },
   "outputs": [
    {
     "name": "stdout",
     "output_type": "stream",
     "text": [
      "[0, 4, 16, 36, 64]\n"
     ]
    }
   ],
   "source": [
    "# Menggunakan kondisi\n",
    "\n",
    "list = [i*i for i in range(10) if i % 2 == 0]\n",
    "print(list)"
   ]
  },
  {
   "cell_type": "code",
   "execution_count": null,
   "metadata": {
    "colab": {
     "base_uri": "https://localhost:8080/"
    },
    "id": "J062qGvDWSwE",
    "outputId": "02357e9c-b2f1-492a-ddb1-8062a320e86c"
   },
   "outputs": [
    {
     "name": "stdout",
     "output_type": "stream",
     "text": [
      "['bean', 'bean', 'bean', 'bean', 'bean']\n"
     ]
    }
   ],
   "source": [
    "# Membuat list berisi nilai yang sama (konstan)\n",
    "\n",
    "names = [\"bean\" for x in range(5)]\n",
    "print(names)"
   ]
  },
  {
   "cell_type": "code",
   "execution_count": null,
   "metadata": {
    "colab": {
     "base_uri": "https://localhost:8080/"
    },
    "id": "UKvBy0UzWuHh",
    "outputId": "adf37643-f51e-47e3-8a6e-94713c3bd228"
   },
   "outputs": [
    {
     "name": "stdout",
     "output_type": "stream",
     "text": [
      "['b', 'e', 'l', 'a', 'j', 'a', 'r', ' ', 'p', 'y', 't', 'h', 'o', 'n']\n"
     ]
    }
   ],
   "source": [
    "# Mengubah kalimat menjadi list karakter\n",
    "\n",
    "sentence = \"belajar python\"\n",
    "chars = [char for char in sentence]\n",
    "print(chars)"
   ]
  },
  {
   "cell_type": "code",
   "execution_count": 13,
   "metadata": {},
   "outputs": [
    {
     "name": "stdout",
     "output_type": "stream",
     "text": [
      "[[0, 0, 0], [0, 0, 0], [0, 0, 0]]\n"
     ]
    }
   ],
   "source": [
    "# Matriks 3x3 berisi nol\n",
    "array_2d = [[0 for _ in range(3)] for _ in range(3)]\n",
    "print(array_2d)"
   ]
  },
  {
   "cell_type": "code",
   "execution_count": 15,
   "metadata": {},
   "outputs": [
    {
     "name": "stdout",
     "output_type": "stream",
     "text": [
      "[[1, 0, 0], [0, 1, 0], [0, 0, 1]]\n"
     ]
    }
   ],
   "source": [
    "# Matriks identitas 3x3\n",
    "identity_matrix = [[1 if i == j else 0 for j in range(3)] for i in range(3)]\n",
    "print(identity_matrix)"
   ]
  },
  {
   "cell_type": "code",
   "execution_count": 19,
   "metadata": {},
   "outputs": [
    {
     "name": "stdout",
     "output_type": "stream",
     "text": [
      "[[1 2 3]\n",
      " [4 5 6]\n",
      " [7 8 9]]\n"
     ]
    }
   ],
   "source": [
    "# membuat matriks menggunakan numpy\n",
    "import numpy as np\n",
    "\n",
    "matrix = np.array([[1,2,3],[4,5,6],[7,8,9]])\n",
    "print(matrix)"
   ]
  },
  {
   "cell_type": "code",
   "execution_count": null,
   "metadata": {},
   "outputs": [],
   "source": []
  }
 ],
 "metadata": {
  "colab": {
   "provenance": []
  },
  "kernelspec": {
   "display_name": "Python 3 (ipykernel)",
   "language": "python",
   "name": "python3"
  },
  "language_info": {
   "codemirror_mode": {
    "name": "ipython",
    "version": 3
   },
   "file_extension": ".py",
   "mimetype": "text/x-python",
   "name": "python",
   "nbconvert_exporter": "python",
   "pygments_lexer": "ipython3",
   "version": "3.12.9"
  }
 },
 "nbformat": 4,
 "nbformat_minor": 4
}
