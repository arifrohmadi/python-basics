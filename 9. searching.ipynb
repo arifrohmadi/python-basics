{
  "nbformat": 4,
  "nbformat_minor": 0,
  "metadata": {
    "colab": {
      "provenance": []
    },
    "kernelspec": {
      "name": "python3",
      "display_name": "Python 3"
    },
    "language_info": {
      "name": "python"
    }
  },
  "cells": [
    {
      "cell_type": "code",
      "source": [
        "# linear search\n",
        "\n",
        "def linear_search(arr, target):\n",
        "    for index, element in enumerate(arr):\n",
        "        if element == target:\n",
        "            return index\n",
        "    return None\n",
        "\n",
        "def main():\n",
        "    list_angka = [1, 3, 5, 9, 7, 12, 10, 2, 8, 6]\n",
        "    target_element = 12\n",
        "\n",
        "    result = linear_search(list_angka, target_element)\n",
        "    if result is not None:\n",
        "        print(f\"Elemen {target_element} ditemukan pada indeks {result}.\")\n",
        "    else:\n",
        "        print(f\"Elemen {target_element} tidak ditemukan dalam daftar.\")\n",
        "\n",
        "if __name__ == \"__main__\":\n",
        "    main()"
      ],
      "metadata": {
        "colab": {
          "base_uri": "https://localhost:8080/"
        },
        "id": "_c4o0QScDAsG",
        "outputId": "6ab08cef-91b6-402c-e43a-6b978f70cc2c"
      },
      "execution_count": null,
      "outputs": [
        {
          "output_type": "stream",
          "name": "stdout",
          "text": [
            "Elemen 12 ditemukan pada indeks 5.\n"
          ]
        }
      ]
    },
    {
      "cell_type": "code",
      "source": [
        "# binary search\n",
        "\n",
        "def binary_search(arr, target):\n",
        "    left, right = 0, len(arr) - 1\n",
        "    while left <= right:\n",
        "        mid = (left + right) // 2\n",
        "        if arr[mid] == target:\n",
        "            return mid\n",
        "        elif arr[mid] < target:\n",
        "            left = mid + 1\n",
        "        else:\n",
        "            right = mid - 1\n",
        "    return -1\n",
        "\n",
        "def main():\n",
        "    list_angka = [2, 5, 8, 12, 16, 23, 38, 56, 72, 91]\n",
        "    target_element = 23\n",
        "\n",
        "    result = binary_search(list_angka, target_element)\n",
        "    if result is not None:\n",
        "        print(f\"Elemen {target_element} ditemukan pada indeks {result}.\")\n",
        "    else:\n",
        "        print(f\"Elemen {target_element} tidak ditemukan dalam daftar.\")\n",
        "\n",
        "if __name__ == \"__main__\":\n",
        "    main()\n"
      ],
      "metadata": {
        "colab": {
          "base_uri": "https://localhost:8080/"
        },
        "id": "VKLdJ-AzD76C",
        "outputId": "3d2cef7a-356c-4e1a-946e-7226b3ebaaaf"
      },
      "execution_count": null,
      "outputs": [
        {
          "output_type": "stream",
          "name": "stdout",
          "text": [
            "Elemen 23 ditemukan pada indeks 5.\n"
          ]
        }
      ]
    }
  ]
}