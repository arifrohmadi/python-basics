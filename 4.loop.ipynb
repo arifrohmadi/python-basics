{
  "nbformat": 4,
  "nbformat_minor": 0,
  "metadata": {
    "colab": {
      "provenance": []
    },
    "kernelspec": {
      "name": "python3",
      "display_name": "Python 3"
    },
    "language_info": {
      "name": "python"
    }
  },
  "cells": [
    {
      "cell_type": "code",
      "execution_count": 1,
      "metadata": {
        "colab": {
          "base_uri": "https://localhost:8080/"
        },
        "id": "nVJetudPTLIl",
        "outputId": "04b6d452-b6b1-4652-f3da-d076c750deff"
      },
      "outputs": [
        {
          "output_type": "stream",
          "name": "stdout",
          "text": [
            "How many episode of the film? 0\n",
            "Here 3 more titles\n"
          ]
        }
      ],
      "source": [
        "#Loop\n",
        "# While Loop\n",
        "\n",
        "episode = eval(input (\"How many episode of the film? \"))\n",
        "\n",
        "while episode > 0:\n",
        "  print(\"play next one\");\n",
        "  episode = episode-1\n",
        "else:\n",
        "  print(\"Here 3 more titles\");"
      ]
    },
    {
      "cell_type": "code",
      "source": [
        "where = input(\"You're in the Lost Forest. Go left or right? \")\n",
        "while where == \"right\":\n",
        "  where = input(\"You're in the Lost Forest. Go left or right? \")\n",
        "print(\"You go out of the Lost Forest!\")"
      ],
      "metadata": {
        "id": "TP2WVxBYWC_E"
      },
      "execution_count": null,
      "outputs": []
    },
    {
      "cell_type": "code",
      "source": [
        "n = int(input(\"Enter a non-negative integer: \"))\n",
        "while n>0:\n",
        "  print('x')\n",
        "  n = n-1"
      ],
      "metadata": {
        "colab": {
          "base_uri": "https://localhost:8080/"
        },
        "id": "B3Fk7cQvWaOk",
        "outputId": "dab5b710-7b7c-467b-834d-3a00960435e9"
      },
      "execution_count": null,
      "outputs": [
        {
          "output_type": "stream",
          "name": "stdout",
          "text": [
            "Enter a non-negative integer: 7\n",
            "x\n",
            "x\n",
            "x\n",
            "x\n",
            "x\n",
            "x\n",
            "x\n"
          ]
        }
      ]
    },
    {
      "cell_type": "code",
      "source": [
        "where = input(\"Go left or right? \")\n",
        "while where == \"right\":\n",
        "  where = input(\"Go left or right? \")\n",
        "print(\"You go out!\")"
      ],
      "metadata": {
        "id": "SkBOj7OxWvup"
      },
      "execution_count": null,
      "outputs": []
    },
    {
      "cell_type": "code",
      "source": [
        "n = 0\n",
        "while n < 5:\n",
        "  print(n)\n",
        "  n = n+1"
      ],
      "metadata": {
        "id": "vKPGy3x3W6VU"
      },
      "execution_count": null,
      "outputs": []
    },
    {
      "cell_type": "code",
      "source": [
        "# factorial\n",
        "\n",
        "x = 4\n",
        "i = 1\n",
        "factorial = 1\n",
        "while i <= x:\n",
        "  factorial *=i\n",
        "  i +=1\n",
        "print(f'{x} factorial is {factorial}')"
      ],
      "metadata": {
        "colab": {
          "base_uri": "https://localhost:8080/"
        },
        "id": "az_LAC2yW_k2",
        "outputId": "27bedd98-e283-4076-c042-37d87d15278a"
      },
      "execution_count": null,
      "outputs": [
        {
          "output_type": "stream",
          "name": "stdout",
          "text": [
            "4 factorial is 24\n"
          ]
        }
      ]
    },
    {
      "cell_type": "code",
      "source": [
        "# While Loop\n",
        "n = 0\n",
        "while n < 5:\n",
        "  print(n)\n",
        "  n = n+1\n",
        "\n",
        "# For Loop\n",
        "for n in range(5):\n",
        "  print(n)"
      ],
      "metadata": {
        "colab": {
          "base_uri": "https://localhost:8080/"
        },
        "id": "qtzRIzuLXTLI",
        "outputId": "585e8f17-82aa-412c-fbc5-aa50dacbc7b8"
      },
      "execution_count": null,
      "outputs": [
        {
          "output_type": "stream",
          "name": "stdout",
          "text": [
            "0\n",
            "1\n",
            "2\n",
            "3\n",
            "4\n",
            "0\n",
            "1\n",
            "2\n",
            "3\n",
            "4\n"
          ]
        }
      ]
    },
    {
      "cell_type": "code",
      "source": [
        "for i in range (1,4,1):\n",
        "  print(i)\n",
        "\n",
        "for j in range (1,4,2):\n",
        "  print(j*2)\n",
        "\n",
        "for me in range(4,0,-1):\n",
        "  print(\"$\"*me)"
      ],
      "metadata": {
        "colab": {
          "base_uri": "https://localhost:8080/"
        },
        "id": "tciU4lhnXeu4",
        "outputId": "b7e0f38c-ff91-40bd-bcd6-4557480632a4"
      },
      "execution_count": null,
      "outputs": [
        {
          "output_type": "stream",
          "name": "stdout",
          "text": [
            "1\n",
            "2\n",
            "3\n",
            "2\n",
            "6\n",
            "$$$$\n",
            "$$$\n",
            "$$\n",
            "$\n"
          ]
        }
      ]
    },
    {
      "cell_type": "code",
      "source": [
        "#running sum\n",
        "mysum = 0\n",
        "for i in range(10):\n",
        "  mysum += i\n",
        "print(mysum)"
      ],
      "metadata": {
        "colab": {
          "base_uri": "https://localhost:8080/"
        },
        "id": "zC6fqo5kXsVF",
        "outputId": "db672446-90e6-4b80-8129-328154b019b3"
      },
      "execution_count": null,
      "outputs": [
        {
          "output_type": "stream",
          "name": "stdout",
          "text": [
            "45\n"
          ]
        }
      ]
    },
    {
      "cell_type": "code",
      "source": [
        "mysum = 0\n",
        "start = 3\n",
        "end = 5\n",
        "for i in range(start,end):\n",
        "  mysum += i\n",
        "print(mysum)"
      ],
      "metadata": {
        "colab": {
          "base_uri": "https://localhost:8080/"
        },
        "id": "UedXXSobX5N-",
        "outputId": "ed59e64c-fc29-4d8b-9c05-aebc2093eda3"
      },
      "execution_count": null,
      "outputs": [
        {
          "output_type": "stream",
          "name": "stdout",
          "text": [
            "7\n"
          ]
        }
      ]
    },
    {
      "cell_type": "code",
      "source": [
        "x = 4\n",
        "i = 1\n",
        "factorial = 1\n",
        "while i <= x:\n",
        "  factorial *= i\n",
        "  i += 1\n",
        "print(f'{x} factorial is {factorial}')\n",
        "\n",
        "x = 4\n",
        "factorial = 1\n",
        "for i in range(1, x+1, 1):\n",
        "  factorial *= i\n",
        "print(f'{x} factorial is {factorial}')"
      ],
      "metadata": {
        "id": "o7M_nM65YDUd"
      },
      "execution_count": null,
      "outputs": []
    }
  ]
}