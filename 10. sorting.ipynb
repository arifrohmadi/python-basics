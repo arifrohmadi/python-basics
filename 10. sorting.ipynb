{
  "nbformat": 4,
  "nbformat_minor": 0,
  "metadata": {
    "colab": {
      "provenance": []
    },
    "kernelspec": {
      "name": "python3",
      "display_name": "Python 3"
    },
    "language_info": {
      "name": "python"
    }
  },
  "cells": [
    {
      "cell_type": "code",
      "execution_count": null,
      "metadata": {
        "colab": {
          "base_uri": "https://localhost:8080/"
        },
        "id": "PGiZTUf8y6VB",
        "outputId": "c1156d11-3952-42fb-dd14-4ff15412aa66"
      },
      "outputs": [
        {
          "output_type": "stream",
          "name": "stdout",
          "text": [
            "[1, 2, 3, 4, 5, 6]\n"
          ]
        }
      ],
      "source": [
        "# bubble sort\n",
        "\n",
        "def bubble_sort(x):\n",
        "    for i in range(len(x) - 1, 0, -1):\n",
        "        for j in range(i):\n",
        "            if x[j] > x[j + 1]:\n",
        "                temp = x[j]\n",
        "                x[j] = x[j + 1]\n",
        "                x[j + 1] = temp\n",
        "\n",
        "angka = [6, 1, 2, 3, 4, 5]\n",
        "bubble_sort(angka)\n",
        "print(angka)"
      ]
    },
    {
      "cell_type": "code",
      "source": [
        "# selection sort (menukar nilai min)\n",
        "\n",
        "def selection_sort(angka):\n",
        "    n = len(angka)\n",
        "    for i in range(n - 1):\n",
        "        # Temukan indeks elemen terkecil dari sisa list\n",
        "        min_idx = i\n",
        "        for j in range(i + 1, n):\n",
        "            if angka[j] < angka[min_idx]:\n",
        "                min_idx = j\n",
        "        # Tukar elemen terkecil ke posisi i\n",
        "        angka[i], angka[min_idx] = angka[min_idx], angka[i]\n",
        "\n",
        "# Data awal sesuai gambar\n",
        "angka = [5, 1, 12, -5, 16, 2, 12, 14]\n",
        "\n",
        "# Jalankan selection sort\n",
        "selection_sort(angka)\n",
        "\n",
        "# Cetak hasil akhir\n",
        "print(angka)"
      ],
      "metadata": {
        "colab": {
          "base_uri": "https://localhost:8080/"
        },
        "id": "JdGJ8-ZKl_IY",
        "outputId": "9766555f-58f8-41b0-dcce-104ee898c5d1"
      },
      "execution_count": 2,
      "outputs": [
        {
          "output_type": "stream",
          "name": "stdout",
          "text": [
            "[-5, 1, 2, 5, 12, 12, 14, 16]\n"
          ]
        }
      ]
    },
    {
      "cell_type": "code",
      "source": [
        "# selection sort (menukar nilai max)\n",
        "\n",
        "def selection_sort(angka):\n",
        "  for pos_tujuan in range(len(angka)-1,0,-1):\n",
        "    pos_max = 0\n",
        "    for i in range(1,pos_tujuan+1):\n",
        "      max_sementara = angka[pos_max]\n",
        "      if max_sementara < angka[i]:\n",
        "        pos_max = i\n",
        "    angka[pos_max],angka[pos_tujuan] = angka[pos_tujuan],angka[pos_max]\n",
        "\n",
        "angka = [5, 1, 12, -5, 16, 2, 12, 14]\n",
        "selection_sort(angka)\n",
        "print(angka)"
      ],
      "metadata": {
        "colab": {
          "base_uri": "https://localhost:8080/"
        },
        "id": "chhUpIHR1Ipc",
        "outputId": "51e732ac-ab28-4670-ac0a-8433a9a29add"
      },
      "execution_count": null,
      "outputs": [
        {
          "output_type": "stream",
          "name": "stdout",
          "text": [
            "[-5, 1, 2, 5, 12, 12, 14, 16]\n"
          ]
        }
      ]
    },
    {
      "cell_type": "code",
      "source": [
        "# insertion sort\n",
        "\n",
        "def insertion_sort(angka):\n",
        "  for pos_sekarang in range(1,len(angka)):\n",
        "    pos_sisip = pos_sekarang\n",
        "    while angka[pos_sisip] < angka[pos_sisip-1] and pos_sisip>0:\n",
        "      angka[pos_sisip],angka[pos_sisip-1] = angka[pos_sisip-1],angka[pos_sisip]\n",
        "      pos_sisip = pos_sisip -1\n",
        "\n",
        "angka = [5, 2, 4, 6, 1, 3]\n",
        "insertion_sort(angka)\n",
        "print(angka)"
      ],
      "metadata": {
        "colab": {
          "base_uri": "https://localhost:8080/"
        },
        "id": "XPXMDZDf5Gae",
        "outputId": "3e3ba0ea-2134-4f82-f4a9-3534a67f74d8"
      },
      "execution_count": null,
      "outputs": [
        {
          "output_type": "stream",
          "name": "stdout",
          "text": [
            "[1, 2, 3, 4, 5, 6]\n"
          ]
        }
      ]
    },
    {
      "cell_type": "code",
      "source": [
        "# merge sort\n",
        "def merge_sort(angka):\n",
        "    if len(angka) > 1:\n",
        "        mid = len(angka) // 2  # Temukan titik tengah daftar\n",
        "        left_half = angka[:mid]  # Bagian kiri dari daftar\n",
        "        right_half = angka[mid:]  # Bagian kanan dari daftar\n",
        "\n",
        "        # Rekursi pada kedua bagian\n",
        "        merge_sort(left_half)\n",
        "        merge_sort(right_half)\n",
        "\n",
        "        i = j = k = 0\n",
        "\n",
        "        # Gabungkan kedua bagian yang terurut\n",
        "        while i < len(left_half) and j < len(right_half):\n",
        "            if left_half[i] < right_half[j]:\n",
        "                angka[k] = left_half[i]\n",
        "                i += 1\n",
        "            else:\n",
        "                angka[k] = right_half[j]\n",
        "                j += 1\n",
        "            k += 1\n",
        "\n",
        "        # Tambahkan elemen sisa dari kedua daftar (jika ada)\n",
        "        while i < len(left_half):\n",
        "            angka[k] = left_half[i]\n",
        "            i += 1\n",
        "            k += 1\n",
        "\n",
        "        while j < len(right_half):\n",
        "            angka[k] = right_half[j]\n",
        "            j += 1\n",
        "            k += 1\n",
        "angka = [4, 8, 7, 2, 11, 1, 3]\n",
        "merge_sort(angka)\n",
        "print(angka)"
      ],
      "metadata": {
        "colab": {
          "base_uri": "https://localhost:8080/"
        },
        "id": "EiDwCkUP8ojT",
        "outputId": "483fdda5-ce94-4621-f73c-a7a650ecf6a6"
      },
      "execution_count": null,
      "outputs": [
        {
          "output_type": "stream",
          "name": "stdout",
          "text": [
            "[1, 2, 3, 4, 7, 8, 11]\n"
          ]
        }
      ]
    }
  ]
}